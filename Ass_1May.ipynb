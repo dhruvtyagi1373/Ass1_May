{
 "cells": [
  {
   "cell_type": "markdown",
   "id": "6153035e-caed-4554-922a-0e6bb9e77c3d",
   "metadata": {},
   "source": [
    "## Q1. What is a contingency matrix, and how is it used to evaluate the performance of a classification model?"
   ]
  },
  {
   "cell_type": "markdown",
   "id": "dfb6410d-ba8f-49b8-8901-63f98c14d211",
   "metadata": {},
   "source": [
    "Sol : A contingency matrix displays frequencies for combinations of two categorical variables. Analysts also refer to contingency tables as crosstabulation and two-way tables.\n",
    "Contingency tables classify outcomes for one variable in rows and the other in columns. The values at the row and column intersections are frequencies for each unique combination of the two variables.\n",
    "\n",
    "Eg. The contingency table example below displays computer sales at our fictional store. Specifically, it describes sales frequencies by the customer’s gender and the type of computer purchased. It is a two-way table (2 X 2). "
   ]
  },
  {
   "attachments": {
    "7aadd0b9-92a3-4be7-9ba0-47cc60e39c28.png": {
     "image/png": "[encoded data removed]"
    }
   },
   "cell_type": "markdown",
   "id": "f9de8be4-fddf-434e-bdd4-4bd311e21e93",
   "metadata": {},
   "source": [
    "![contingency_table.png](attachment:7aadd0b9-92a3-4be7-9ba0-47cc60e39c28.png)"
   ]
  },
  {
   "cell_type": "markdown",
   "id": "faadbce7-b366-428f-8590-5f36c3230f7a",
   "metadata": {},
   "source": [
    "Based on above Example,we can see that Male prefer buying PC whereas Females prefer buying Mac"
   ]
  },
  {
   "cell_type": "markdown",
   "id": "1e91a624-00d3-47a9-8ce7-b2b27722d183",
   "metadata": {},
   "source": [
    "## Q2. How is a pair confusion matrix different from a regular confusion matrix, and why might it be useful in certain situations?"
   ]
  },
  {
   "cell_type": "markdown",
   "id": "ce3db5d8-f163-4739-a826-f5683e7458a1",
   "metadata": {},
   "source": [
    "Pair confusion matrix arise from two clusterings.\n",
    "The pair confusion matrix C computes a 2 by 2 similarity matrix between two clusterings by considering all pairs of samples and counting pairs that are assigned into the same or into different clusters under the true and predicted clusterings.\n",
    "\n",
    "It is used for clustering algorithm whereas confusion matrix is used to check performance of supervised machine algorithms."
   ]
  },
  {
   "cell_type": "markdown",
   "id": "2dd88eff-cf37-4bad-b804-cc30e7803b53",
   "metadata": {},
   "source": [
    "## Q3. What is an extrinsic measure in the context of natural language processing, and how is it typically used to evaluate the performance of language models?"
   ]
  },
  {
   "cell_type": "markdown",
   "id": "3b5f4468-5ff2-4fac-af09-6bc3100ae7ec",
   "metadata": {},
   "source": [
    "Extrinsic evaluation (or task-based evaluation) captures how useful the model is in a particular task.\n",
    "Extrinsic evaluation is the best way to evaluate the performance of a language model by embedding it in an application and measuring how much the application improves.\n",
    "- It is an end-to-end evaluation where we can understand if a particular improvement in a component is really going to help the task at hand.\n",
    "- Example: For speech recognition, we can compare the performance of two language models by running the speech recognizer twice, once with each language model, and seeing which gives the more accurate transcription."
   ]
  },
  {
   "cell_type": "markdown",
   "id": "6bb1e6c1-886b-4ca8-a11d-78b5ed4ad1bf",
   "metadata": {},
   "source": [
    "## Q4. What is an intrinsic measure in the context of machine learning, and how does it differ from an extrinsic measure?"
   ]
  },
  {
   "cell_type": "markdown",
   "id": "d2273b5d-1bae-4848-b56c-913cd989b638",
   "metadata": {},
   "source": [
    "Sol : Intrinsic evaluation captures how well the model captures what it is supposed to capture, like probabilities.We need to take advantage of intrinsic measures because running big language models in NLP systems end-to-end is often very expensive, and it is easier to have a metric that can be used to quickly evaluate potential improvements in a language model.\n",
    "An intrinsic evaluation metric is one that measures the quality of a model-independent of any application."
   ]
  },
  {
   "cell_type": "markdown",
   "id": "8d85f9b3-cbb8-49c5-b0ae-7f8b930c8b82",
   "metadata": {},
   "source": [
    "## Q5. What is the purpose of a confusion matrix in machine learning, and how can it be used to identify strengths and weaknesses of a model?"
   ]
  },
  {
   "cell_type": "markdown",
   "id": "a3040e6c-c2e1-4f3f-989f-590c37833749",
   "metadata": {},
   "source": [
    "Sol : A Confusion matrix is an N x N matrix used for evaluating the performance of a classification model, where N is the total number of target classes. The matrix compares the actual target values with those predicted by the machine learning model. This gives us a holistic view of how well our classification model is performing and what kinds of errors it is making."
   ]
  },
  {
   "cell_type": "markdown",
   "id": "8254003a-4eef-4bdd-b264-17f59fe46cae",
   "metadata": {},
   "source": [
    "## Q6. What are some common intrinsic measures used to evaluate the performance of unsupervised learning algorithms, and how can they be interpreted?"
   ]
  },
  {
   "cell_type": "code",
   "execution_count": null,
   "id": "ff9c6877-13da-4b66-97b3-43cd3bc4f161",
   "metadata": {},
   "outputs": [],
   "source": []
  },
  {
   "cell_type": "markdown",
   "id": "640d7e00-2772-4644-8121-a8f06609e5d5",
   "metadata": {},
   "source": [
    "## Q7. What are some limitations of using accuracy as a sole evaluation metric for classification tasks, and how can these limitations be addressed?"
   ]
  },
  {
   "cell_type": "markdown",
   "id": "366cf0e5-76bb-4263-bbb4-1adb0acfd73b",
   "metadata": {},
   "source": [
    "Sol : If the data set is highly imbalanced, and the model classifies all the data points as the majority class data points, the accuracy will be high. This makes accuracy not a reliable performance metric for imbalanced data.\n",
    "Using Precision,Recall,F1-score will help in overcoming this limitation"
   ]
  },
  {
   "cell_type": "code",
   "execution_count": null,
   "id": "a7d20d24-388d-4ae6-ad0b-ac4edada6b7d",
   "metadata": {},
   "outputs": [],
   "source": []
  },
  {
   "cell_type": "code",
   "execution_count": null,
   "id": "451f12cd-9ede-43b8-b995-38b898e08a67",
   "metadata": {},
   "outputs": [],
   "source": []
  },
  {
   "cell_type": "code",
   "execution_count": null,
   "id": "bf016f0f-ea8b-4948-bb93-5dccef9dd450",
   "metadata": {},
   "outputs": [],
   "source": []
  }
 ],
 "metadata": {
  "kernelspec": {
   "display_name": "Python 3 (ipykernel)",
   "language": "python",
   "name": "python3"
  },
  "language_info": {
   "codemirror_mode": {
    "name": "ipython",
    "version": 3
   },
   "file_extension": ".py",
   "mimetype": "text/x-python",
   "name": "python",
   "nbconvert_exporter": "python",
   "pygments_lexer": "ipython3",
   "version": "3.10.8"
  }
 },
 "nbformat": 4,
 "nbformat_minor": 5
}
